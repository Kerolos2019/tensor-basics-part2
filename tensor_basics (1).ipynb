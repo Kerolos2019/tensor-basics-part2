{
  "nbformat": 4,
  "nbformat_minor": 0,
  "metadata": {
    "colab": {
      "provenance": []
    },
    "kernelspec": {
      "name": "python3",
      "display_name": "Python 3"
    },
    "language_info": {
      "name": "python"
    },
    "accelerator": "GPU",
    "gpuClass": "standard"
  },
  "cells": [
    {
      "cell_type": "code",
      "execution_count": 2,
      "metadata": {
        "colab": {
          "base_uri": "https://localhost:8080/"
        },
        "id": "RWZKgb_kpCzp",
        "outputId": "2dc91a59-b936-4f3e-858a-f0f5f13b5bc7"
      },
      "outputs": [
        {
          "output_type": "stream",
          "name": "stdout",
          "text": [
            "1.13.0+cu116\n"
          ]
        }
      ],
      "source": [
        "import torch \n",
        "import pandas as pd\n",
        "import numpy as np\n",
        "import matplotlib.pyplot as plt\n",
        "print(torch.__version__)"
      ]
    },
    {
      "cell_type": "markdown",
      "source": [
        "#scaler tensor:\n"
      ],
      "metadata": {
        "id": "0quxtA_Np4JV"
      }
    },
    {
      "cell_type": "code",
      "source": [
        "scaler=torch.tensor(7)\n",
        "scaler"
      ],
      "metadata": {
        "id": "pJZrt_h6xIfT",
        "colab": {
          "base_uri": "https://localhost:8080/"
        },
        "outputId": "1b359134-8a21-48a3-ee1a-7f2ba45b21a0"
      },
      "execution_count": 3,
      "outputs": [
        {
          "output_type": "execute_result",
          "data": {
            "text/plain": [
              "tensor(7)"
            ]
          },
          "metadata": {},
          "execution_count": 3
        }
      ]
    },
    {
      "cell_type": "code",
      "source": [
        "scaler.ndim"
      ],
      "metadata": {
        "colab": {
          "base_uri": "https://localhost:8080/"
        },
        "id": "_rHqfkkEqPV7",
        "outputId": "5cf4b4c3-be18-4d83-888f-1cbc8839d423"
      },
      "execution_count": 4,
      "outputs": [
        {
          "output_type": "execute_result",
          "data": {
            "text/plain": [
              "0"
            ]
          },
          "metadata": {},
          "execution_count": 4
        }
      ]
    },
    {
      "cell_type": "code",
      "source": [
        "scaler.item()"
      ],
      "metadata": {
        "colab": {
          "base_uri": "https://localhost:8080/"
        },
        "id": "Ucg_LmTOq1nb",
        "outputId": "44230ed0-57c5-4525-bec3-14d5bd6f4a58"
      },
      "execution_count": 5,
      "outputs": [
        {
          "output_type": "execute_result",
          "data": {
            "text/plain": [
              "7"
            ]
          },
          "metadata": {},
          "execution_count": 5
        }
      ]
    },
    {
      "cell_type": "code",
      "source": [
        "#vecotr:\n",
        "vector=torch.tensor([1,2,3])"
      ],
      "metadata": {
        "id": "3hu8A3Oyq7MZ"
      },
      "execution_count": 6,
      "outputs": []
    },
    {
      "cell_type": "code",
      "source": [
        "vector.shape"
      ],
      "metadata": {
        "colab": {
          "base_uri": "https://localhost:8080/"
        },
        "id": "VrlFn3GZrG9D",
        "outputId": "d9f64102-3f9a-447d-83b8-84933ecb0cb3"
      },
      "execution_count": 7,
      "outputs": [
        {
          "output_type": "execute_result",
          "data": {
            "text/plain": [
              "torch.Size([3])"
            ]
          },
          "metadata": {},
          "execution_count": 7
        }
      ]
    },
    {
      "cell_type": "markdown",
      "source": [
        "#Matrix:\n"
      ],
      "metadata": {
        "id": "hs_rWE2vrfzb"
      }
    },
    {
      "cell_type": "code",
      "source": [
        "Matrix=torch.tensor([[1,2],[3,4]])"
      ],
      "metadata": {
        "id": "gG9_CULMw5kv"
      },
      "execution_count": 8,
      "outputs": []
    },
    {
      "cell_type": "code",
      "source": [
        "Matrix.shape"
      ],
      "metadata": {
        "colab": {
          "base_uri": "https://localhost:8080/"
        },
        "id": "dOY0CRY5rv8A",
        "outputId": "e178e10d-d16d-4f39-c295-d0e47c3df8f5"
      },
      "execution_count": 9,
      "outputs": [
        {
          "output_type": "execute_result",
          "data": {
            "text/plain": [
              "torch.Size([2, 2])"
            ]
          },
          "metadata": {},
          "execution_count": 9
        }
      ]
    },
    {
      "cell_type": "code",
      "source": [
        "Matrix.ndim"
      ],
      "metadata": {
        "colab": {
          "base_uri": "https://localhost:8080/"
        },
        "id": "w_O9sDpDrxfC",
        "outputId": "8c4bdc9d-5b1d-4a37-f585-0ef8d7afea0f"
      },
      "execution_count": 10,
      "outputs": [
        {
          "output_type": "execute_result",
          "data": {
            "text/plain": [
              "2"
            ]
          },
          "metadata": {},
          "execution_count": 10
        }
      ]
    },
    {
      "cell_type": "code",
      "source": [
        "Matrix[0]"
      ],
      "metadata": {
        "colab": {
          "base_uri": "https://localhost:8080/"
        },
        "id": "KONL7uj2r3sR",
        "outputId": "a48ae1ba-26a3-4b6a-9ff6-b9b25676aaf0"
      },
      "execution_count": 11,
      "outputs": [
        {
          "output_type": "execute_result",
          "data": {
            "text/plain": [
              "tensor([1, 2])"
            ]
          },
          "metadata": {},
          "execution_count": 11
        }
      ]
    },
    {
      "cell_type": "code",
      "source": [
        "Matrix[0][0]"
      ],
      "metadata": {
        "colab": {
          "base_uri": "https://localhost:8080/"
        },
        "id": "J7fdRaEcsI5L",
        "outputId": "edd89bc1-64a8-4349-8164-15cb461cd064"
      },
      "execution_count": 12,
      "outputs": [
        {
          "output_type": "execute_result",
          "data": {
            "text/plain": [
              "tensor(1)"
            ]
          },
          "metadata": {},
          "execution_count": 12
        }
      ]
    },
    {
      "cell_type": "markdown",
      "source": [
        "#tensor"
      ],
      "metadata": {
        "id": "WVDP1a90xDw6"
      }
    },
    {
      "cell_type": "code",
      "source": [
        "  Tensor=torch.tensor([[[1,2],[3,4]]])"
      ],
      "metadata": {
        "id": "Va8GLxgaw8Ds"
      },
      "execution_count": 13,
      "outputs": []
    },
    {
      "cell_type": "code",
      "source": [
        "Tensor.shape"
      ],
      "metadata": {
        "colab": {
          "base_uri": "https://localhost:8080/"
        },
        "id": "fiWojW_Dshua",
        "outputId": "b903173d-9df4-4aad-fd8c-b3a98f4e7a7c"
      },
      "execution_count": 14,
      "outputs": [
        {
          "output_type": "execute_result",
          "data": {
            "text/plain": [
              "torch.Size([1, 2, 2])"
            ]
          },
          "metadata": {},
          "execution_count": 14
        }
      ]
    },
    {
      "cell_type": "code",
      "source": [
        "Tensor.ndim"
      ],
      "metadata": {
        "colab": {
          "base_uri": "https://localhost:8080/"
        },
        "id": "_EHhZwIVsjfM",
        "outputId": "ae59664a-3e81-4434-e0fd-99e480d46364"
      },
      "execution_count": 15,
      "outputs": [
        {
          "output_type": "execute_result",
          "data": {
            "text/plain": [
              "3"
            ]
          },
          "metadata": {},
          "execution_count": 15
        }
      ]
    },
    {
      "cell_type": "markdown",
      "source": [
        "#random tensors:\n"
      ],
      "metadata": {
        "id": "Uw-RbsKaslgH"
      }
    },
    {
      "cell_type": "code",
      "source": [
        "randomTensor=torch.rand(3,4)"
      ],
      "metadata": {
        "id": "XS5qvuJXw0If"
      },
      "execution_count": 16,
      "outputs": []
    },
    {
      "cell_type": "code",
      "source": [
        "randomTensor"
      ],
      "metadata": {
        "colab": {
          "base_uri": "https://localhost:8080/"
        },
        "id": "DTzVB_EG7Atg",
        "outputId": "8698070b-d92a-413c-8e62-3812e91a487d"
      },
      "execution_count": 17,
      "outputs": [
        {
          "output_type": "execute_result",
          "data": {
            "text/plain": [
              "tensor([[0.4151, 0.7463, 0.2483, 0.2884],\n",
              "        [0.5678, 0.3927, 0.5637, 0.1131],\n",
              "        [0.4630, 0.2749, 0.6473, 0.1179]])"
            ]
          },
          "metadata": {},
          "execution_count": 17
        }
      ]
    },
    {
      "cell_type": "code",
      "source": [
        "randomTensor.ndim"
      ],
      "metadata": {
        "colab": {
          "base_uri": "https://localhost:8080/"
        },
        "id": "aIK--D-57C-6",
        "outputId": "a3d22829-ed12-4275-e724-f85ac9f20549"
      },
      "execution_count": 18,
      "outputs": [
        {
          "output_type": "execute_result",
          "data": {
            "text/plain": [
              "2"
            ]
          },
          "metadata": {},
          "execution_count": 18
        }
      ]
    },
    {
      "cell_type": "code",
      "source": [
        "zero_tensor=torch.zeros(size=(3,3))"
      ],
      "metadata": {
        "id": "ayVSeCtX7MXW"
      },
      "execution_count": 19,
      "outputs": []
    },
    {
      "cell_type": "code",
      "source": [
        "zero_tensor"
      ],
      "metadata": {
        "colab": {
          "base_uri": "https://localhost:8080/"
        },
        "id": "CKcZKPkL_Ydk",
        "outputId": "8cab0b45-1d46-466f-cb40-c90efc8281ac"
      },
      "execution_count": 20,
      "outputs": [
        {
          "output_type": "execute_result",
          "data": {
            "text/plain": [
              "tensor([[0., 0., 0.],\n",
              "        [0., 0., 0.],\n",
              "        [0., 0., 0.]])"
            ]
          },
          "metadata": {},
          "execution_count": 20
        }
      ]
    },
    {
      "cell_type": "code",
      "source": [
        "ones=torch.ones(size=(2,2))"
      ],
      "metadata": {
        "id": "b845nvqJ_c6m"
      },
      "execution_count": 21,
      "outputs": []
    },
    {
      "cell_type": "code",
      "source": [
        "ones"
      ],
      "metadata": {
        "colab": {
          "base_uri": "https://localhost:8080/"
        },
        "id": "p81ApeJs_2Av",
        "outputId": "42044731-6756-4219-af00-839e652f9f41"
      },
      "execution_count": 22,
      "outputs": [
        {
          "output_type": "execute_result",
          "data": {
            "text/plain": [
              "tensor([[1., 1.],\n",
              "        [1., 1.]])"
            ]
          },
          "metadata": {},
          "execution_count": 22
        }
      ]
    },
    {
      "cell_type": "code",
      "source": [
        "##making tensor range and tensor looks like another tensor"
      ],
      "metadata": {
        "id": "Kqae_TXu_2fd"
      },
      "execution_count": 23,
      "outputs": []
    },
    {
      "cell_type": "markdown",
      "source": [
        "\n",
        "\n",
        "```\n",
        "##making tensor range and tensor looks like another tensor```#\n",
        "\n"
      ],
      "metadata": {
        "id": "pOrtW3puAtPX"
      }
    },
    {
      "cell_type": "code",
      "source": [
        "range_tensor=torch.arange(0,10)"
      ],
      "metadata": {
        "id": "GFkZvdL4AhjN"
      },
      "execution_count": 24,
      "outputs": []
    },
    {
      "cell_type": "code",
      "source": [
        "range_tensor"
      ],
      "metadata": {
        "colab": {
          "base_uri": "https://localhost:8080/"
        },
        "id": "XzgYVKItApJq",
        "outputId": "be43da32-06b9-4fb3-cf0a-6d914284fdec"
      },
      "execution_count": 25,
      "outputs": [
        {
          "output_type": "execute_result",
          "data": {
            "text/plain": [
              "tensor([0, 1, 2, 3, 4, 5, 6, 7, 8, 9])"
            ]
          },
          "metadata": {},
          "execution_count": 25
        }
      ]
    },
    {
      "cell_type": "code",
      "source": [
        "like_tensor=torch.zeros_like(range_tensor)"
      ],
      "metadata": {
        "id": "UqNN_jxQBVmH"
      },
      "execution_count": 26,
      "outputs": []
    },
    {
      "cell_type": "code",
      "source": [
        "like_tensor"
      ],
      "metadata": {
        "colab": {
          "base_uri": "https://localhost:8080/"
        },
        "id": "rp4Xx6-zGNlD",
        "outputId": "a8a1df77-c011-4ab3-9809-f0905b8dfaf2"
      },
      "execution_count": 27,
      "outputs": [
        {
          "output_type": "execute_result",
          "data": {
            "text/plain": [
              "tensor([0, 0, 0, 0, 0, 0, 0, 0, 0, 0])"
            ]
          },
          "metadata": {},
          "execution_count": 27
        }
      ]
    },
    {
      "cell_type": "code",
      "source": [
        "#tensor data types"
      ],
      "metadata": {
        "id": "YIjxB3ASGOv2"
      },
      "execution_count": 28,
      "outputs": []
    },
    {
      "cell_type": "markdown",
      "source": [
        "#tensor data types"
      ],
      "metadata": {
        "id": "EWzlsFHTJJmf"
      }
    },
    {
      "cell_type": "code",
      "source": [
        "float_32_tensor=torch.tensor([3.0,2.0,4.000],requires_grad=False,device=None)\n"
      ],
      "metadata": {
        "id": "xAO3KPo3JLw_"
      },
      "execution_count": 29,
      "outputs": []
    },
    {
      "cell_type": "code",
      "source": [
        "float_32_tensor"
      ],
      "metadata": {
        "colab": {
          "base_uri": "https://localhost:8080/"
        },
        "id": "FVHWFP4zJVcz",
        "outputId": "d4fe17fe-16b9-44ef-b61a-31a8d04b8532"
      },
      "execution_count": 30,
      "outputs": [
        {
          "output_type": "execute_result",
          "data": {
            "text/plain": [
              "tensor([3., 2., 4.])"
            ]
          },
          "metadata": {},
          "execution_count": 30
        }
      ]
    },
    {
      "cell_type": "code",
      "source": [
        "float_32_tensor.dtype"
      ],
      "metadata": {
        "colab": {
          "base_uri": "https://localhost:8080/"
        },
        "id": "gutdvjh1JXLZ",
        "outputId": "44ecb8ca-b3b4-4cc0-b530-53bdfa923bc0"
      },
      "execution_count": 31,
      "outputs": [
        {
          "output_type": "execute_result",
          "data": {
            "text/plain": [
              "torch.float32"
            ]
          },
          "metadata": {},
          "execution_count": 31
        }
      ]
    },
    {
      "cell_type": "code",
      "source": [
        "float_32_tensor.device"
      ],
      "metadata": {
        "colab": {
          "base_uri": "https://localhost:8080/"
        },
        "id": "sHLtTnGmJdIo",
        "outputId": "efdafe1d-b144-4f1c-cf4c-cc9a39d03452"
      },
      "execution_count": 32,
      "outputs": [
        {
          "output_type": "execute_result",
          "data": {
            "text/plain": [
              "device(type='cpu')"
            ]
          },
          "metadata": {},
          "execution_count": 32
        }
      ]
    },
    {
      "cell_type": "code",
      "source": [],
      "metadata": {
        "id": "B_Ce-kkGQBEp"
      },
      "execution_count": 32,
      "outputs": []
    },
    {
      "cell_type": "markdown",
      "source": [
        "##manipulating Tensors"
      ],
      "metadata": {
        "id": "LZh9rLvLiHgu"
      }
    },
    {
      "cell_type": "code",
      "source": [
        "tensor_1=torch.tensor([1,2,3])"
      ],
      "metadata": {
        "id": "1x6tDjHPiNnO"
      },
      "execution_count": 33,
      "outputs": []
    },
    {
      "cell_type": "code",
      "source": [
        "tensor_1*tensor_1"
      ],
      "metadata": {
        "colab": {
          "base_uri": "https://localhost:8080/"
        },
        "id": "V1qI1u2aj5kI",
        "outputId": "d469489a-750c-4379-b88c-ed2427bfd291"
      },
      "execution_count": 34,
      "outputs": [
        {
          "output_type": "execute_result",
          "data": {
            "text/plain": [
              "tensor([1, 4, 9])"
            ]
          },
          "metadata": {},
          "execution_count": 34
        }
      ]
    },
    {
      "cell_type": "code",
      "source": [
        " torch.matmul(tensor_1,tensor_1)"
      ],
      "metadata": {
        "colab": {
          "base_uri": "https://localhost:8080/"
        },
        "id": "VeWiLnbpkTal",
        "outputId": "a506820f-1b51-4217-af28-629dcd3f9e8b"
      },
      "execution_count": 35,
      "outputs": [
        {
          "output_type": "execute_result",
          "data": {
            "text/plain": [
              "tensor(14)"
            ]
          },
          "metadata": {},
          "execution_count": 35
        }
      ]
    },
    {
      "cell_type": "code",
      "source": [
        "t2=tensor_1.T"
      ],
      "metadata": {
        "id": "-T4vWHAslNbS",
        "colab": {
          "base_uri": "https://localhost:8080/"
        },
        "outputId": "635385de-562f-432d-a261-e89948dc1957"
      },
      "execution_count": 36,
      "outputs": [
        {
          "output_type": "stream",
          "name": "stderr",
          "text": [
            "<ipython-input-36-100723eccbc6>:1: UserWarning: The use of `x.T` on tensors of dimension other than 2 to reverse their shape is deprecated and it will throw an error in a future release. Consider `x.mT` to transpose batches of matrices or `x.permute(*torch.arange(x.ndim - 1, -1, -1))` to reverse the dimensions of a tensor. (Triggered internally at ../aten/src/ATen/native/TensorShape.cpp:3277.)\n",
            "  t2=tensor_1.T\n"
          ]
        }
      ]
    },
    {
      "cell_type": "code",
      "source": [
        "torch.matmul(tensor_1,t2)"
      ],
      "metadata": {
        "colab": {
          "base_uri": "https://localhost:8080/"
        },
        "id": "7phz8M8GnG5Q",
        "outputId": "b2445c0e-a8f6-49f9-89eb-cf827b031b90"
      },
      "execution_count": 37,
      "outputs": [
        {
          "output_type": "execute_result",
          "data": {
            "text/plain": [
              "tensor(14)"
            ]
          },
          "metadata": {},
          "execution_count": 37
        }
      ]
    },
    {
      "cell_type": "code",
      "source": [],
      "metadata": {
        "id": "der1b-0ZneZl"
      },
      "execution_count": 37,
      "outputs": []
    },
    {
      "cell_type": "markdown",
      "source": [
        "##maen max sum of "
      ],
      "metadata": {
        "id": "UTpYlXXiFYwT"
      }
    },
    {
      "cell_type": "code",
      "source": [
        "v=torch.tensor([1,2,3,4,5])"
      ],
      "metadata": {
        "id": "8YI9e6HXFdA3"
      },
      "execution_count": 38,
      "outputs": []
    },
    {
      "cell_type": "code",
      "source": [
        "v.max()"
      ],
      "metadata": {
        "colab": {
          "base_uri": "https://localhost:8080/"
        },
        "id": "0MNU1vdgFpMG",
        "outputId": "d1ec17dc-0489-410c-a3bc-6ef67cf41932"
      },
      "execution_count": 39,
      "outputs": [
        {
          "output_type": "execute_result",
          "data": {
            "text/plain": [
              "tensor(5)"
            ]
          },
          "metadata": {},
          "execution_count": 39
        }
      ]
    },
    {
      "cell_type": "code",
      "source": [
        "v.min()"
      ],
      "metadata": {
        "colab": {
          "base_uri": "https://localhost:8080/"
        },
        "id": "oJvTnkFMFqFX",
        "outputId": "037995de-fb0d-4d4d-dc25-894386fa3739"
      },
      "execution_count": 40,
      "outputs": [
        {
          "output_type": "execute_result",
          "data": {
            "text/plain": [
              "tensor(1)"
            ]
          },
          "metadata": {},
          "execution_count": 40
        }
      ]
    },
    {
      "cell_type": "code",
      "source": [
        "v.sum()"
      ],
      "metadata": {
        "colab": {
          "base_uri": "https://localhost:8080/"
        },
        "id": "l7iXx49WFqzf",
        "outputId": "1f47d5a9-7f48-48d3-84af-62ec92656bc1"
      },
      "execution_count": 41,
      "outputs": [
        {
          "output_type": "execute_result",
          "data": {
            "text/plain": [
              "tensor(15)"
            ]
          },
          "metadata": {},
          "execution_count": 41
        }
      ]
    },
    {
      "cell_type": "code",
      "source": [
        "torch.mean(v.type(torch.float32))"
      ],
      "metadata": {
        "colab": {
          "base_uri": "https://localhost:8080/"
        },
        "id": "1WJPqdraFryJ",
        "outputId": "a96eb5dc-8a00-4a60-a26b-b786e6f2fa6a"
      },
      "execution_count": 42,
      "outputs": [
        {
          "output_type": "execute_result",
          "data": {
            "text/plain": [
              "tensor(3.)"
            ]
          },
          "metadata": {},
          "execution_count": 42
        }
      ]
    },
    {
      "cell_type": "code",
      "source": [],
      "metadata": {
        "id": "dXQaCj3NFv-_"
      },
      "execution_count": 42,
      "outputs": []
    },
    {
      "cell_type": "markdown",
      "source": [
        "## finding the index of the max and min"
      ],
      "metadata": {
        "id": "6jY-uEayHEHQ"
      }
    },
    {
      "cell_type": "code",
      "source": [
        "v.argmin()"
      ],
      "metadata": {
        "colab": {
          "base_uri": "https://localhost:8080/"
        },
        "id": "U2oLNZqTHGuJ",
        "outputId": "1f4f307c-56f4-484f-9be2-d0870c1d93f2"
      },
      "execution_count": 43,
      "outputs": [
        {
          "output_type": "execute_result",
          "data": {
            "text/plain": [
              "tensor(0)"
            ]
          },
          "metadata": {},
          "execution_count": 43
        }
      ]
    },
    {
      "cell_type": "code",
      "source": [
        "v.argmax()"
      ],
      "metadata": {
        "colab": {
          "base_uri": "https://localhost:8080/"
        },
        "id": "X1fq-5RkHfvY",
        "outputId": "3df1a47e-23f6-4529-d731-b503085b9a94"
      },
      "execution_count": 44,
      "outputs": [
        {
          "output_type": "execute_result",
          "data": {
            "text/plain": [
              "tensor(4)"
            ]
          },
          "metadata": {},
          "execution_count": 44
        }
      ]
    },
    {
      "cell_type": "code",
      "source": [],
      "metadata": {
        "id": "7wwlpZyQHiPy"
      },
      "execution_count": 44,
      "outputs": []
    },
    {
      "cell_type": "markdown",
      "source": [
        "##reshaping , viewing and stacking tensors"
      ],
      "metadata": {
        "id": "wFG0MooiJfgI"
      }
    },
    {
      "cell_type": "code",
      "source": [
        "tensor=torch.tensor([2,3,4,5,6,7,8,9,1,2,3,4])"
      ],
      "metadata": {
        "id": "EV5Ho-UJJlXj"
      },
      "execution_count": 45,
      "outputs": []
    },
    {
      "cell_type": "code",
      "source": [
        "tensor=tensor.reshape(3,4)"
      ],
      "metadata": {
        "id": "yGuzQg2ELwXR"
      },
      "execution_count": 46,
      "outputs": []
    },
    {
      "cell_type": "code",
      "source": [
        "tensor.view(4,3)"
      ],
      "metadata": {
        "colab": {
          "base_uri": "https://localhost:8080/"
        },
        "id": "1PuB_l_gLyMm",
        "outputId": "5b1d9402-f4b3-41e8-dca5-97651a04091d"
      },
      "execution_count": 47,
      "outputs": [
        {
          "output_type": "execute_result",
          "data": {
            "text/plain": [
              "tensor([[2, 3, 4],\n",
              "        [5, 6, 7],\n",
              "        [8, 9, 1],\n",
              "        [2, 3, 4]])"
            ]
          },
          "metadata": {},
          "execution_count": 47
        }
      ]
    },
    {
      "cell_type": "code",
      "source": [
        "tensor"
      ],
      "metadata": {
        "colab": {
          "base_uri": "https://localhost:8080/"
        },
        "id": "MQToX80PL3fE",
        "outputId": "1745eaa8-2295-4cf2-ddfe-82ff59659fb6"
      },
      "execution_count": 48,
      "outputs": [
        {
          "output_type": "execute_result",
          "data": {
            "text/plain": [
              "tensor([[2, 3, 4, 5],\n",
              "        [6, 7, 8, 9],\n",
              "        [1, 2, 3, 4]])"
            ]
          },
          "metadata": {},
          "execution_count": 48
        }
      ]
    },
    {
      "cell_type": "code",
      "source": [
        "tensor2=torch.tensor([2,3,4,5,6,7,8,15,3,2,5,3])"
      ],
      "metadata": {
        "id": "t2mGWv3KL5KP"
      },
      "execution_count": 49,
      "outputs": []
    },
    {
      "cell_type": "code",
      "source": [
        "tensor2=tensor2.reshape(3,4)"
      ],
      "metadata": {
        "id": "7G477KtdMNLU"
      },
      "execution_count": 50,
      "outputs": []
    },
    {
      "cell_type": "code",
      "source": [
        "tensor3=torch.stack([v,v,v,v,v,v],axis=0)"
      ],
      "metadata": {
        "id": "U67hRjLlMT5C"
      },
      "execution_count": 51,
      "outputs": []
    },
    {
      "cell_type": "code",
      "source": [
        "tensor3"
      ],
      "metadata": {
        "colab": {
          "base_uri": "https://localhost:8080/"
        },
        "id": "htC78tKiOezl",
        "outputId": "6a9c0fcf-bacc-44a8-e02f-53e880bbdaf4"
      },
      "execution_count": 52,
      "outputs": [
        {
          "output_type": "execute_result",
          "data": {
            "text/plain": [
              "tensor([[1, 2, 3, 4, 5],\n",
              "        [1, 2, 3, 4, 5],\n",
              "        [1, 2, 3, 4, 5],\n",
              "        [1, 2, 3, 4, 5],\n",
              "        [1, 2, 3, 4, 5],\n",
              "        [1, 2, 3, 4, 5]])"
            ]
          },
          "metadata": {},
          "execution_count": 52
        }
      ]
    },
    {
      "cell_type": "markdown",
      "source": [
        "##squeezing and unsquezzing"
      ],
      "metadata": {
        "id": "D7-R4a2Vpx-T"
      }
    },
    {
      "cell_type": "code",
      "source": [
        "#torch.squeeze() -> removes all single dimention from a tensor"
      ],
      "metadata": {
        "id": "fm5RTddeOhns"
      },
      "execution_count": 53,
      "outputs": []
    },
    {
      "cell_type": "code",
      "source": [
        "x=torch.ones(3,1,4,1,5,6)\n"
      ],
      "metadata": {
        "id": "ayyHmbVhoPRF"
      },
      "execution_count": 54,
      "outputs": []
    },
    {
      "cell_type": "code",
      "source": [
        "y=torch.squeeze(x)"
      ],
      "metadata": {
        "id": "MZZerV1Tojm3"
      },
      "execution_count": 55,
      "outputs": []
    },
    {
      "cell_type": "code",
      "source": [
        "y.shape"
      ],
      "metadata": {
        "colab": {
          "base_uri": "https://localhost:8080/"
        },
        "id": "eVASdJZqooTK",
        "outputId": "f99b778d-f25b-4f80-ec6c-65931b84f873"
      },
      "execution_count": 56,
      "outputs": [
        {
          "output_type": "execute_result",
          "data": {
            "text/plain": [
              "torch.Size([3, 4, 5, 6])"
            ]
          },
          "metadata": {},
          "execution_count": 56
        }
      ]
    },
    {
      "cell_type": "code",
      "source": [
        "#torch.unsqueeze() -> add a 1 demention to the tensor"
      ],
      "metadata": {
        "id": "H2S7a-xcoogt"
      },
      "execution_count": 57,
      "outputs": []
    },
    {
      "cell_type": "code",
      "source": [
        "z=torch.unsqueeze(y,dim=0)"
      ],
      "metadata": {
        "id": "qCNJtmuUphL5"
      },
      "execution_count": 58,
      "outputs": []
    },
    {
      "cell_type": "code",
      "source": [
        "z.shape"
      ],
      "metadata": {
        "colab": {
          "base_uri": "https://localhost:8080/"
        },
        "id": "knwglwqrpngi",
        "outputId": "dcbb1a75-c9d1-4785-d94f-9ec8263538bf"
      },
      "execution_count": 59,
      "outputs": [
        {
          "output_type": "execute_result",
          "data": {
            "text/plain": [
              "torch.Size([1, 3, 4, 5, 6])"
            ]
          },
          "metadata": {},
          "execution_count": 59
        }
      ]
    },
    {
      "cell_type": "code",
      "source": [
        "# torch.permute() -> re arrange the dimentions of the target tensor in a specific order"
      ],
      "metadata": {
        "id": "-mnJBwbypq-m"
      },
      "execution_count": 60,
      "outputs": []
    },
    {
      "cell_type": "code",
      "source": [
        "z=torch.permute(x,([1,2,0,3,5,4]))"
      ],
      "metadata": {
        "id": "_Znrtc9lqgRM"
      },
      "execution_count": 61,
      "outputs": []
    },
    {
      "cell_type": "code",
      "source": [
        "z.shape"
      ],
      "metadata": {
        "colab": {
          "base_uri": "https://localhost:8080/"
        },
        "id": "6CNNATx6quJM",
        "outputId": "2354d163-c750-4609-81cc-0fba2207b19f"
      },
      "execution_count": 62,
      "outputs": [
        {
          "output_type": "execute_result",
          "data": {
            "text/plain": [
              "torch.Size([1, 4, 3, 1, 6, 5])"
            ]
          },
          "metadata": {},
          "execution_count": 62
        }
      ]
    },
    {
      "cell_type": "code",
      "source": [],
      "metadata": {
        "id": "We9FDLPEq2r3"
      },
      "execution_count": 62,
      "outputs": []
    },
    {
      "cell_type": "markdown",
      "source": [
        "##indexing \"selecting data from tensors\""
      ],
      "metadata": {
        "id": "fp3f60UdsUF4"
      }
    },
    {
      "cell_type": "code",
      "source": [
        "x=torch.arange(0,12).reshape(1,3,4)"
      ],
      "metadata": {
        "id": "LR3F8w1DsXdN"
      },
      "execution_count": 63,
      "outputs": []
    },
    {
      "cell_type": "code",
      "source": [
        "x.shape"
      ],
      "metadata": {
        "colab": {
          "base_uri": "https://localhost:8080/"
        },
        "id": "ldpcdPvMskbd",
        "outputId": "adfb3e83-637a-4d26-99d9-d0fcf2232580"
      },
      "execution_count": 64,
      "outputs": [
        {
          "output_type": "execute_result",
          "data": {
            "text/plain": [
              "torch.Size([1, 3, 4])"
            ]
          },
          "metadata": {},
          "execution_count": 64
        }
      ]
    },
    {
      "cell_type": "code",
      "source": [
        "x"
      ],
      "metadata": {
        "colab": {
          "base_uri": "https://localhost:8080/"
        },
        "id": "6UNJOS-Ptc_8",
        "outputId": "d17fb4cf-a437-4366-b571-f6771a674f6c"
      },
      "execution_count": 65,
      "outputs": [
        {
          "output_type": "execute_result",
          "data": {
            "text/plain": [
              "tensor([[[ 0,  1,  2,  3],\n",
              "         [ 4,  5,  6,  7],\n",
              "         [ 8,  9, 10, 11]]])"
            ]
          },
          "metadata": {},
          "execution_count": 65
        }
      ]
    },
    {
      "cell_type": "code",
      "source": [
        "x[0][0][0]"
      ],
      "metadata": {
        "colab": {
          "base_uri": "https://localhost:8080/"
        },
        "id": "aahbyC2PslTe",
        "outputId": "0cf1855e-bc6c-44c9-b648-9f0291a58008"
      },
      "execution_count": 66,
      "outputs": [
        {
          "output_type": "execute_result",
          "data": {
            "text/plain": [
              "tensor(0)"
            ]
          },
          "metadata": {},
          "execution_count": 66
        }
      ]
    },
    {
      "cell_type": "code",
      "source": [
        "x[:,0]"
      ],
      "metadata": {
        "colab": {
          "base_uri": "https://localhost:8080/"
        },
        "id": "8yE4L3EBtJ_N",
        "outputId": "a478cd5c-a73d-421c-ad90-798afb5423ad"
      },
      "execution_count": 67,
      "outputs": [
        {
          "output_type": "execute_result",
          "data": {
            "text/plain": [
              "tensor([[0, 1, 2, 3]])"
            ]
          },
          "metadata": {},
          "execution_count": 67
        }
      ]
    },
    {
      "cell_type": "code",
      "source": [],
      "metadata": {
        "id": "cJutA6V6uiBB"
      },
      "execution_count": 67,
      "outputs": []
    },
    {
      "cell_type": "code",
      "source": [],
      "metadata": {
        "id": "B7JyZ9CEtnfL"
      },
      "execution_count": 67,
      "outputs": []
    },
    {
      "cell_type": "markdown",
      "source": [
        "## Pytorch Reducibility  "
      ],
      "metadata": {
        "id": "zXXIT2m4ahHl"
      }
    },
    {
      "cell_type": "code",
      "source": [
        "# how neural network learns "
      ],
      "metadata": {
        "id": "YUqRvqEdarX6"
      },
      "execution_count": 68,
      "outputs": []
    },
    {
      "cell_type": "code",
      "source": [
        "# we start with random numbers in a tensor then update them  to make better represtentation of the data"
      ],
      "metadata": {
        "id": "ECaUb4yqbnyk"
      },
      "execution_count": 69,
      "outputs": []
    },
    {
      "cell_type": "code",
      "source": [
        "# we want to take the properity randomeness from random"
      ],
      "metadata": {
        "id": "aR4RMN4mb3rK"
      },
      "execution_count": 70,
      "outputs": []
    },
    {
      "cell_type": "code",
      "source": [
        "#we achieve this by using Random seed "
      ],
      "metadata": {
        "id": "_ts_r-hhduLJ"
      },
      "execution_count": 71,
      "outputs": []
    },
    {
      "cell_type": "code",
      "source": [
        "#every time you run this cell , you get different answers:\n",
        "torch.rand(3,3)"
      ],
      "metadata": {
        "colab": {
          "base_uri": "https://localhost:8080/"
        },
        "id": "Bb9_DxV6d0Ku",
        "outputId": "70bcc380-d860-4673-c36c-19bdadfdee98"
      },
      "execution_count": 72,
      "outputs": [
        {
          "output_type": "execute_result",
          "data": {
            "text/plain": [
              "tensor([[0.5568, 0.8840, 0.5811],\n",
              "        [0.2226, 0.4500, 0.8817],\n",
              "        [0.0611, 0.8977, 0.0421]])"
            ]
          },
          "metadata": {},
          "execution_count": 72
        }
      ]
    },
    {
      "cell_type": "code",
      "source": [
        "# let us use reproducable random tensor"
      ],
      "metadata": {
        "id": "VuWJaSKqd8Ml"
      },
      "execution_count": 73,
      "outputs": []
    },
    {
      "cell_type": "code",
      "source": [
        "#set the random seed\n",
        "torch.manual_seed(42)\n",
        "rand_tensor1=torch.rand(3,4)\n",
        "torch.manual_seed(42)\n",
        "rand_tensor2=torch.rand(3,4)"
      ],
      "metadata": {
        "id": "m7XqjgXne2jy"
      },
      "execution_count": 74,
      "outputs": []
    },
    {
      "cell_type": "code",
      "source": [
        "rand_tensor1"
      ],
      "metadata": {
        "colab": {
          "base_uri": "https://localhost:8080/"
        },
        "id": "g9UmwMWJfUpo",
        "outputId": "d580df70-a928-4ebc-c77b-93cd8502b149"
      },
      "execution_count": 75,
      "outputs": [
        {
          "output_type": "execute_result",
          "data": {
            "text/plain": [
              "tensor([[0.8823, 0.9150, 0.3829, 0.9593],\n",
              "        [0.3904, 0.6009, 0.2566, 0.7936],\n",
              "        [0.9408, 0.1332, 0.9346, 0.5936]])"
            ]
          },
          "metadata": {},
          "execution_count": 75
        }
      ]
    },
    {
      "cell_type": "code",
      "source": [
        "rand_tensor2"
      ],
      "metadata": {
        "colab": {
          "base_uri": "https://localhost:8080/"
        },
        "id": "f-uCdp8JfcnX",
        "outputId": "6695e659-c7df-44c4-a104-1db573517472"
      },
      "execution_count": 76,
      "outputs": [
        {
          "output_type": "execute_result",
          "data": {
            "text/plain": [
              "tensor([[0.8823, 0.9150, 0.3829, 0.9593],\n",
              "        [0.3904, 0.6009, 0.2566, 0.7936],\n",
              "        [0.9408, 0.1332, 0.9346, 0.5936]])"
            ]
          },
          "metadata": {},
          "execution_count": 76
        }
      ]
    },
    {
      "cell_type": "code",
      "source": [
        " "
      ],
      "metadata": {
        "id": "CEe4jGUkfdvh"
      },
      "execution_count": 76,
      "outputs": []
    },
    {
      "cell_type": "markdown",
      "source": [
        "## tensors on GPU"
      ],
      "metadata": {
        "id": "K0vT6NSQj8vr"
      }
    },
    {
      "cell_type": "code",
      "source": [
        "# make sure to change run time mode to GPU"
      ],
      "metadata": {
        "id": "ub9aRsZ7j_MW"
      },
      "execution_count": 77,
      "outputs": []
    },
    {
      "cell_type": "code",
      "source": [
        "!nvidia-smi"
      ],
      "metadata": {
        "colab": {
          "base_uri": "https://localhost:8080/"
        },
        "id": "a_146VP4l_DZ",
        "outputId": "05072b8f-0b19-4a10-bce0-148568573604"
      },
      "execution_count": 78,
      "outputs": [
        {
          "output_type": "stream",
          "name": "stdout",
          "text": [
            "Tue Dec 20 17:33:07 2022       \n",
            "+-----------------------------------------------------------------------------+\n",
            "| NVIDIA-SMI 460.32.03    Driver Version: 460.32.03    CUDA Version: 11.2     |\n",
            "|-------------------------------+----------------------+----------------------+\n",
            "| GPU  Name        Persistence-M| Bus-Id        Disp.A | Volatile Uncorr. ECC |\n",
            "| Fan  Temp  Perf  Pwr:Usage/Cap|         Memory-Usage | GPU-Util  Compute M. |\n",
            "|                               |                      |               MIG M. |\n",
            "|===============================+======================+======================|\n",
            "|   0  Tesla T4            Off  | 00000000:00:04.0 Off |                    0 |\n",
            "| N/A   46C    P0    26W /  70W |      0MiB / 15109MiB |      0%      Default |\n",
            "|                               |                      |                  N/A |\n",
            "+-------------------------------+----------------------+----------------------+\n",
            "                                                                               \n",
            "+-----------------------------------------------------------------------------+\n",
            "| Processes:                                                                  |\n",
            "|  GPU   GI   CI        PID   Type   Process name                  GPU Memory |\n",
            "|        ID   ID                                                   Usage      |\n",
            "|=============================================================================|\n",
            "|  No running processes found                                                 |\n",
            "+-----------------------------------------------------------------------------+\n"
          ]
        }
      ]
    },
    {
      "cell_type": "code",
      "source": [
        "torch.cuda.is_available()"
      ],
      "metadata": {
        "colab": {
          "base_uri": "https://localhost:8080/"
        },
        "id": "GGs66r5xmJg3",
        "outputId": "55268f5c-ed2d-46ee-c126-7eaf5277ee7e"
      },
      "execution_count": 79,
      "outputs": [
        {
          "output_type": "execute_result",
          "data": {
            "text/plain": [
              "True"
            ]
          },
          "metadata": {},
          "execution_count": 79
        }
      ]
    },
    {
      "cell_type": "code",
      "source": [
        "device='cuda' if torch.cuda.is_available( ) else \"cpu\""
      ],
      "metadata": {
        "id": "1YzR2GKPnGoK"
      },
      "execution_count": 81,
      "outputs": []
    },
    {
      "cell_type": "code",
      "source": [
        "device"
      ],
      "metadata": {
        "colab": {
          "base_uri": "https://localhost:8080/",
          "height": 36
        },
        "id": "Xo_zVuo0nh4X",
        "outputId": "b62d853c-9dbc-4dfb-c5d7-8213ef4867c9"
      },
      "execution_count": 82,
      "outputs": [
        {
          "output_type": "execute_result",
          "data": {
            "text/plain": [
              "'cuda'"
            ],
            "application/vnd.google.colaboratory.intrinsic+json": {
              "type": "string"
            }
          },
          "metadata": {},
          "execution_count": 82
        }
      ]
    },
    {
      "cell_type": "code",
      "source": [
        "#count number of gpu"
      ],
      "metadata": {
        "id": "-ulQKdupnvsD"
      },
      "execution_count": 83,
      "outputs": []
    },
    {
      "cell_type": "code",
      "source": [
        "torch.cuda.device_count()"
      ],
      "metadata": {
        "colab": {
          "base_uri": "https://localhost:8080/"
        },
        "id": "iRTdv2h-n2hG",
        "outputId": "0d6f6f34-c6c5-4e29-dbc5-da952e876de9"
      },
      "execution_count": 84,
      "outputs": [
        {
          "output_type": "execute_result",
          "data": {
            "text/plain": [
              "1"
            ]
          },
          "metadata": {},
          "execution_count": 84
        }
      ]
    },
    {
      "cell_type": "code",
      "source": [],
      "metadata": {
        "id": "y9DqipDcn5vX"
      },
      "execution_count": null,
      "outputs": []
    }
  ]
}